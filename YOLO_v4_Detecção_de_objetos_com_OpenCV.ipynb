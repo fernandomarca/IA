{
  "cells": [
    {
      "cell_type": "markdown",
      "metadata": {
        "colab_type": "text",
        "id": "view-in-github"
      },
      "source": [
        "<a href=\"https://colab.research.google.com/github/fernandomarca/IA/blob/main/YOLO_v4_Detec%C3%A7%C3%A3o_de_objetos_com_OpenCV.ipynb\" target=\"_parent\"><img src=\"https://colab.research.google.com/assets/colab-badge.svg\" alt=\"Open In Colab\"/></a>"
      ]
    },
    {
      "cell_type": "markdown",
      "metadata": {
        "id": "7c0p0eWP672d"
      },
      "source": [
        "# Detectando objetos com YOLO v4 - implementação com OpenCV"
      ]
    },
    {
      "cell_type": "markdown",
      "metadata": {
        "id": "qdqDEz3C7Gsw"
      },
      "source": [
        "## Etapa 1 - Importando as bibliotecas"
      ]
    },
    {
      "cell_type": "code",
      "execution_count": null,
      "metadata": {
        "colab": {
          "base_uri": "https://localhost:8080/"
        },
        "id": "DtvH1YpK_zHl",
        "outputId": "4d12886c-fae0-4390-f2ac-a5e438e1cb53"
      },
      "outputs": [],
      "source": [
        "import cv2\n",
        "print(cv2.__version__)"
      ]
    },
    {
      "cell_type": "code",
      "execution_count": null,
      "metadata": {
        "colab": {
          "base_uri": "https://localhost:8080/",
          "height": 301
        },
        "id": "XaVMrPOcAG5A",
        "outputId": "ee06f83b-56de-4cd8-8425-a1f31d6a1523"
      },
      "outputs": [],
      "source": [
        "!pip install opencv-python==4.4.0.40"
      ]
    },
    {
      "cell_type": "code",
      "execution_count": null,
      "metadata": {
        "colab": {
          "base_uri": "https://localhost:8080/"
        },
        "id": "FIzdrNFxAdeM",
        "outputId": "103bd923-acc9-4226-9890-a7beefeb7a73"
      },
      "outputs": [],
      "source": [
        "import cv2\n",
        "import numpy as np\n",
        "import time\n",
        "import os\n",
        "import matplotlib.pyplot as plt\n",
        "from google.colab.patches import cv2_imshow\n",
        "import zipfile\n",
        "print(cv2.__version__)"
      ]
    },
    {
      "cell_type": "markdown",
      "metadata": {
        "id": "05vKSzso7Kvw"
      },
      "source": [
        "## Etapa 2 - Conectando com o Google Drive"
      ]
    },
    {
      "cell_type": "code",
      "execution_count": null,
      "metadata": {
        "colab": {
          "base_uri": "https://localhost:8080/"
        },
        "id": "eHwcI7e9A6LB",
        "outputId": "9edd5e8d-0938-4cd7-cec4-6782f42f2560"
      },
      "outputs": [],
      "source": [
        "from google.colab import drive\n",
        "drive.mount('/content/gdrive')"
      ]
    },
    {
      "cell_type": "markdown",
      "metadata": {
        "id": "PxlRGgZV7d_r"
      },
      "source": [
        "## Etapa 3 - Carregando os arquivos do modelo treinado"
      ]
    },
    {
      "cell_type": "code",
      "execution_count": null,
      "metadata": {
        "id": "X2d8HFZQBy2O"
      },
      "outputs": [],
      "source": [
        "path = '/content/gdrive/My Drive/Cursos - recursos/YOLO/modelo_YOLOv4.zip'\n",
        "zip_object = zipfile.ZipFile(file=path, mode='r')\n",
        "zip_object.extractall('./')\n",
        "zip_object.close()"
      ]
    },
    {
      "cell_type": "code",
      "execution_count": null,
      "metadata": {
        "colab": {
          "base_uri": "https://localhost:8080/",
          "height": 57
        },
        "id": "P45vPOyvCXvC",
        "outputId": "75bdfb04-bdee-4ebb-8a12-d2e116f05cb9"
      },
      "outputs": [],
      "source": [
        "labels_path = os.path.sep.join(['/content/cfg', 'coco.names'])\n",
        "labels_path"
      ]
    },
    {
      "cell_type": "code",
      "execution_count": null,
      "metadata": {
        "colab": {
          "base_uri": "https://localhost:8080/"
        },
        "id": "zjrXm-iSCwT3",
        "outputId": "38dc4704-8e07-4a51-ee36-061d8e776a26"
      },
      "outputs": [],
      "source": [
        "LABELS = open(labels_path).read().strip().split('\\n')\n",
        "print(LABELS)"
      ]
    },
    {
      "cell_type": "code",
      "execution_count": null,
      "metadata": {
        "colab": {
          "base_uri": "https://localhost:8080/"
        },
        "id": "l5a_mAwNDOuU",
        "outputId": "1bd8ffd9-32e9-4e22-c419-48656696aa0b"
      },
      "outputs": [],
      "source": [
        "len(LABELS)"
      ]
    },
    {
      "cell_type": "code",
      "execution_count": null,
      "metadata": {
        "colab": {
          "base_uri": "https://localhost:8080/"
        },
        "id": "cSWZrqq1DTx9",
        "outputId": "1392a008-a4ee-482a-eaa6-a9f04ad9f4b9"
      },
      "outputs": [],
      "source": [
        "weights_path = os.path.sep.join(['/content', 'yolov4.weights'])\n",
        "config_path = os.path.sep.join(['/content/cfg', 'yolov4.cfg'])\n",
        "weights_path, config_path"
      ]
    },
    {
      "cell_type": "code",
      "execution_count": null,
      "metadata": {
        "id": "yORISUrxDtgi"
      },
      "outputs": [],
      "source": [
        "net = cv2.dnn.readNet(config_path, weights_path)"
      ]
    },
    {
      "cell_type": "code",
      "execution_count": null,
      "metadata": {
        "colab": {
          "base_uri": "https://localhost:8080/"
        },
        "id": "GEAHrG-oECEb",
        "outputId": "d47bd657-cb4f-4aea-d3cf-ec742d80cd95"
      },
      "outputs": [],
      "source": [
        "net"
      ]
    },
    {
      "cell_type": "markdown",
      "metadata": {
        "id": "O3zdFwT881pS"
      },
      "source": [
        "## Etapa 4 - Definindo mais configurações para a detecção "
      ]
    },
    {
      "cell_type": "code",
      "execution_count": null,
      "metadata": {
        "colab": {
          "base_uri": "https://localhost:8080/"
        },
        "id": "GB7OBCX4FrNh",
        "outputId": "a0bc4799-da75-467a-f699-096d4a395313"
      },
      "outputs": [],
      "source": [
        "COLORS = np.random.randint(0, 255, size=(len(LABELS), 3), dtype='uint8')\n",
        "print(COLORS)"
      ]
    },
    {
      "cell_type": "code",
      "execution_count": null,
      "metadata": {
        "colab": {
          "base_uri": "https://localhost:8080/"
        },
        "id": "_PQrnhoTG3Uj",
        "outputId": "9a766dcc-6ba9-49d2-cd9c-ec22ac63e634"
      },
      "outputs": [],
      "source": [
        "ln = net.getLayerNames()\n",
        "print('Todas as camadas')\n",
        "print(ln)\n",
        "print('Total de camadas: ' + str(len(ln)))"
      ]
    },
    {
      "cell_type": "code",
      "execution_count": null,
      "metadata": {
        "colab": {
          "base_uri": "https://localhost:8080/"
        },
        "id": "nF1JXYkmHmbE",
        "outputId": "d23b2a16-f4b5-4f8b-fb36-3fee55c944b8"
      },
      "outputs": [],
      "source": [
        "print('Camadas de saída')\n",
        "print(net.getUnconnectedOutLayers())"
      ]
    },
    {
      "cell_type": "code",
      "execution_count": null,
      "metadata": {
        "colab": {
          "base_uri": "https://localhost:8080/"
        },
        "id": "2KC3pNV9I4s4",
        "outputId": "78b6f3b9-73f1-4867-9132-daaa4d946d67"
      },
      "outputs": [],
      "source": [
        "ln = [ln[i[0] - 1] for i in net.getUnconnectedOutLayers()]\n",
        "ln"
      ]
    },
    {
      "cell_type": "markdown",
      "metadata": {
        "id": "Bzv-6h7477z5"
      },
      "source": [
        "## Etapa 5 - Carregando a imagem onde será feita a detecção"
      ]
    },
    {
      "cell_type": "code",
      "execution_count": null,
      "metadata": {
        "id": "bGt9k_pdKapl"
      },
      "outputs": [],
      "source": [
        "def mostrar(img):\n",
        "  fig = plt.gcf()\n",
        "  fig.set_size_inches(16,10)\n",
        "  plt.axis('off')\n",
        "  plt.imshow(cv2.cvtColor(img, cv2.COLOR_BGR2RGB))\n",
        "  plt.show()"
      ]
    },
    {
      "cell_type": "code",
      "execution_count": null,
      "metadata": {
        "colab": {
          "base_uri": "https://localhost:8080/",
          "height": 595
        },
        "id": "9tibuNJDKwU8",
        "outputId": "b14c5b12-20d2-4b00-991a-9ea5a4f176b0"
      },
      "outputs": [],
      "source": [
        "imagem = cv2.imread('/content/gdrive/My Drive/Cursos - recursos/YOLO/imagens/cachorros.jpg')\n",
        "mostrar(imagem)"
      ]
    },
    {
      "cell_type": "code",
      "execution_count": null,
      "metadata": {
        "colab": {
          "base_uri": "https://localhost:8080/"
        },
        "id": "svCOX7mgL_n8",
        "outputId": "1599e96c-07b4-4aa1-a162-936af78e293e"
      },
      "outputs": [],
      "source": [
        "type(imagem)"
      ]
    },
    {
      "cell_type": "code",
      "execution_count": null,
      "metadata": {
        "colab": {
          "base_uri": "https://localhost:8080/"
        },
        "id": "X3_dXsUbMrNo",
        "outputId": "d5278acb-0800-49d7-aee2-812d8fbcd052"
      },
      "outputs": [],
      "source": [
        "print(imagem)"
      ]
    },
    {
      "cell_type": "code",
      "execution_count": null,
      "metadata": {
        "id": "tWeduxfzLBIT"
      },
      "outputs": [],
      "source": [
        "imagem_cp = imagem.copy()"
      ]
    },
    {
      "cell_type": "code",
      "execution_count": null,
      "metadata": {
        "colab": {
          "base_uri": "https://localhost:8080/"
        },
        "id": "_9n5xAc7LMMl",
        "outputId": "fd733d92-265b-47d4-a04f-af4abc7500bb"
      },
      "outputs": [],
      "source": [
        "imagem.shape"
      ]
    },
    {
      "cell_type": "code",
      "execution_count": null,
      "metadata": {
        "colab": {
          "base_uri": "https://localhost:8080/"
        },
        "id": "omChHSwULHEF",
        "outputId": "b82a62ad-df3d-4ef1-8134-979562fb59b2"
      },
      "outputs": [],
      "source": [
        "(H, W) = imagem.shape[:2]\n",
        "print('Altura: ' + str(H) + '\\nLargura: ' + str(W))"
      ]
    },
    {
      "cell_type": "markdown",
      "metadata": {
        "id": "Iqc359lDATAh"
      },
      "source": [
        "## Etapa 6 - Processando a imagem de entrada"
      ]
    },
    {
      "cell_type": "code",
      "execution_count": null,
      "metadata": {
        "colab": {
          "base_uri": "https://localhost:8080/"
        },
        "id": "RB55n4CDLjnI",
        "outputId": "9096e11d-1d47-4427-bc4c-782b153529d5"
      },
      "outputs": [],
      "source": [
        "inicio = time.time()\n",
        "\n",
        "blob = cv2.dnn.blobFromImage(imagem, 1 / 255.0, (416, 416), swapRB = True, crop = False)\n",
        "net.setInput(blob)\n",
        "layer_outputs = net.forward(ln)\n",
        "\n",
        "termino = time.time()\n",
        "print('YOLO levou {:.2f} segundos'.format(termino - inicio))"
      ]
    },
    {
      "cell_type": "markdown",
      "metadata": {
        "id": "BQzpImT4-H1F"
      },
      "source": [
        "## Etapa 7 - Definindo as variáveis"
      ]
    },
    {
      "cell_type": "code",
      "execution_count": null,
      "metadata": {
        "id": "PHJaztNzR1RY"
      },
      "outputs": [],
      "source": [
        "threshold = 0.5\n",
        "threshold_NMS = 0.3\n",
        "caixas = []\n",
        "confiancas = []\n",
        "IDclasses = []"
      ]
    },
    {
      "cell_type": "markdown",
      "metadata": {
        "id": "6Wkis49_-VxD"
      },
      "source": [
        "## Etapa 8 - Realizando a predição"
      ]
    },
    {
      "cell_type": "code",
      "execution_count": null,
      "metadata": {
        "colab": {
          "base_uri": "https://localhost:8080/"
        },
        "id": "pHO0g4kYS4PG",
        "outputId": "62db5194-5e29-429c-bebe-38d146f10aa3"
      },
      "outputs": [],
      "source": [
        "len(layer_outputs)"
      ]
    },
    {
      "cell_type": "code",
      "execution_count": null,
      "metadata": {
        "colab": {
          "base_uri": "https://localhost:8080/"
        },
        "id": "yx6J8PlSUKwW",
        "outputId": "522bb12c-7463-48e4-a29b-008ebae6a25e"
      },
      "outputs": [],
      "source": [
        "layer_outputs[0], len(layer_outputs[0])"
      ]
    },
    {
      "cell_type": "code",
      "execution_count": null,
      "metadata": {
        "colab": {
          "base_uri": "https://localhost:8080/"
        },
        "id": "CG81R5J8Ujg2",
        "outputId": "455fcee0-6ae0-473b-d2ed-0c10ca318cfd"
      },
      "outputs": [],
      "source": [
        "layer_outputs[1]"
      ]
    },
    {
      "cell_type": "code",
      "execution_count": null,
      "metadata": {
        "colab": {
          "base_uri": "https://localhost:8080/"
        },
        "id": "VZ2ipyIoUo68",
        "outputId": "03f62771-ef19-4f38-ba00-4d9fe32d3d98"
      },
      "outputs": [],
      "source": [
        "layer_outputs[2], layer_outputs[2][0], len(layer_outputs[2][0])"
      ]
    },
    {
      "cell_type": "code",
      "execution_count": null,
      "metadata": {
        "colab": {
          "base_uri": "https://localhost:8080/"
        },
        "id": "MwmWNvEVWTwb",
        "outputId": "97559b06-ba8f-4b1c-da33-9bd5e97b0698"
      },
      "outputs": [],
      "source": [
        "print(LABELS)"
      ]
    },
    {
      "cell_type": "code",
      "execution_count": null,
      "metadata": {
        "colab": {
          "base_uri": "https://localhost:8080/",
          "height": 57
        },
        "id": "zsbiuFWoX_V7",
        "outputId": "79f7b956-42b7-481b-9d75-091e690c5dfa"
      },
      "outputs": [],
      "source": [
        "LABELS[16]"
      ]
    },
    {
      "cell_type": "code",
      "execution_count": null,
      "metadata": {
        "colab": {
          "base_uri": "https://localhost:8080/"
        },
        "id": "6nxREy2KWHvD",
        "outputId": "b11ab8a6-0074-4ec6-a4ca-093e5e8500a5"
      },
      "outputs": [],
      "source": [
        "np.argmax(np.array([0.10, 0.80, 0.10]))"
      ]
    },
    {
      "cell_type": "code",
      "execution_count": null,
      "metadata": {
        "id": "6Ji_KlfTWjWp"
      },
      "outputs": [],
      "source": [
        "teste = np.array([0.10, 0.80, 0.10])"
      ]
    },
    {
      "cell_type": "code",
      "execution_count": null,
      "metadata": {
        "colab": {
          "base_uri": "https://localhost:8080/"
        },
        "id": "Sx6VaMQcWpal",
        "outputId": "7aa18336-8da8-4617-df06-5a03c01fc3de"
      },
      "outputs": [],
      "source": [
        "teste[1]"
      ]
    },
    {
      "cell_type": "code",
      "execution_count": null,
      "metadata": {
        "colab": {
          "base_uri": "https://localhost:8080/"
        },
        "id": "MecxNLEPVWXR",
        "outputId": "b89e1a92-8b7f-4b77-bd9b-4ae8a64439e4"
      },
      "outputs": [],
      "source": [
        "for output in layer_outputs:\n",
        "  for detection in output:\n",
        "    scores = detection[5:]\n",
        "    classeID = np.argmax(scores)\n",
        "    confianca = scores[classeID]\n",
        "    if confianca > threshold:\n",
        "      print('scores: ' + str(scores))\n",
        "      print('classe mais provável: ' + str(classeID))\n",
        "      print('confiança: ' + str(confianca))\n",
        "\n",
        "      caixa = detection[0:4] * np.array([W, H, W, H])\n",
        "      (centerX, centerY, width, height) = caixa.astype('int')\n",
        "\n",
        "      x = int(centerX - (width / 2))\n",
        "      y = int(centerY - (height / 2))\n",
        "\n",
        "      caixas.append([x, y, int(width), int(height)])\n",
        "      confiancas.append(float(confianca))\n",
        "      IDclasses.append(classeID)"
      ]
    },
    {
      "cell_type": "code",
      "execution_count": null,
      "metadata": {
        "colab": {
          "base_uri": "https://localhost:8080/"
        },
        "id": "_JskZMUiZTyI",
        "outputId": "55588559-6f80-4b9f-c0a8-aad2cb92f89b"
      },
      "outputs": [],
      "source": [
        "print(caixas), len(caixas)"
      ]
    },
    {
      "cell_type": "code",
      "execution_count": null,
      "metadata": {
        "colab": {
          "base_uri": "https://localhost:8080/"
        },
        "id": "WCXiMohHZbnb",
        "outputId": "abc07332-b565-4463-84db-1db7617dae35"
      },
      "outputs": [],
      "source": [
        "print(confiancas), len(confiancas)"
      ]
    },
    {
      "cell_type": "code",
      "execution_count": null,
      "metadata": {
        "colab": {
          "base_uri": "https://localhost:8080/"
        },
        "id": "k_E2x0ETZgYH",
        "outputId": "bb40d0df-d260-4fbc-a5be-42dac86e87a6"
      },
      "outputs": [],
      "source": [
        "print(IDclasses), len(IDclasses)"
      ]
    },
    {
      "cell_type": "markdown",
      "metadata": {
        "id": "55yl5egd-jXT"
      },
      "source": [
        "## Etapa 9 - Aplicando a Non-Maxima Suppression"
      ]
    },
    {
      "cell_type": "code",
      "execution_count": null,
      "metadata": {
        "id": "rnEzdbHwaWO5"
      },
      "outputs": [],
      "source": [
        "objs = cv2.dnn.NMSBoxes(caixas, confiancas, threshold, threshold_NMS)"
      ]
    },
    {
      "cell_type": "code",
      "execution_count": null,
      "metadata": {
        "colab": {
          "base_uri": "https://localhost:8080/"
        },
        "id": "IRAOM2K6astb",
        "outputId": "96aff5d0-510f-4813-ae83-975f5fa55a15"
      },
      "outputs": [],
      "source": [
        "objs"
      ]
    },
    {
      "cell_type": "code",
      "execution_count": null,
      "metadata": {
        "colab": {
          "base_uri": "https://localhost:8080/"
        },
        "id": "2h0laKh8bPJl",
        "outputId": "75bb8a29-85bf-4fe0-bfbe-45f4d718bdd4"
      },
      "outputs": [],
      "source": [
        "print(objs.flatten())"
      ]
    },
    {
      "cell_type": "code",
      "execution_count": null,
      "metadata": {
        "colab": {
          "base_uri": "https://localhost:8080/"
        },
        "id": "g_zPwsJZa2DC",
        "outputId": "0a387740-62ac-47dc-d40e-2de68ef746b5"
      },
      "outputs": [],
      "source": [
        "confiancas[7], confiancas[15], confiancas[11]"
      ]
    },
    {
      "cell_type": "code",
      "execution_count": null,
      "metadata": {
        "colab": {
          "base_uri": "https://localhost:8080/"
        },
        "id": "TTFqkpfaa9SW",
        "outputId": "7d7998bf-8ff7-4797-d489-a8781cacefb6"
      },
      "outputs": [],
      "source": [
        "confiancas[0]"
      ]
    },
    {
      "cell_type": "markdown",
      "metadata": {
        "id": "aOwTXTg--tYj"
      },
      "source": [
        "## Etapa 10 - Mostrando o resultado da detecção na imagem"
      ]
    },
    {
      "cell_type": "code",
      "execution_count": null,
      "metadata": {
        "colab": {
          "base_uri": "https://localhost:8080/",
          "height": 1000
        },
        "id": "BSF301RCbFZs",
        "outputId": "becc9110-eae9-4308-9360-a23f3056a33f"
      },
      "outputs": [],
      "source": [
        "if len(objs) > 0:\n",
        "  for i in objs.flatten():\n",
        "    (x, y) = (caixas[i][0], caixas[i][1])\n",
        "    (w, h) = (caixas[i][2], caixas[i][3])\n",
        "\n",
        "    objeto = imagem_cp[y:y + h, x:x + w]\n",
        "    cv2_imshow(objeto)\n",
        "\n",
        "    cor = [int(c) for c in COLORS[IDclasses[i]]]\n",
        "\n",
        "    cv2.rectangle(imagem, (x, y), (x + w, y + h), cor, 2)\n",
        "    texto = \"{}: {:.4f}\".format(LABELS[IDclasses[i]], confiancas[i])\n",
        "    cv2.putText(imagem, texto, (x, y - 5), cv2.FONT_HERSHEY_SIMPLEX, 0.5, cor, 2)"
      ]
    },
    {
      "cell_type": "code",
      "execution_count": null,
      "metadata": {
        "colab": {
          "base_uri": "https://localhost:8080/",
          "height": 595
        },
        "id": "ACGK3udKc7ON",
        "outputId": "4f68b29e-8245-4078-be67-aa7679941827"
      },
      "outputs": [],
      "source": [
        "mostrar(imagem)"
      ]
    },
    {
      "cell_type": "code",
      "execution_count": null,
      "metadata": {
        "colab": {
          "base_uri": "https://localhost:8080/"
        },
        "id": "VqOLmbZAdAIZ",
        "outputId": "189f5160-67f2-49e4-e8fe-e2f2c45c0434"
      },
      "outputs": [],
      "source": [
        "cv2.imwrite('resultado.jpg', imagem)"
      ]
    },
    {
      "cell_type": "code",
      "execution_count": null,
      "metadata": {
        "id": "ERUjUPL5dGwP"
      },
      "outputs": [],
      "source": [
        "!cp ./resultado.jpg /content/gdrive/My\\ Drive/Cursos\\ -\\ recursos/YOLO/imagens/resultado_cachorro.jpg"
      ]
    }
  ],
  "metadata": {
    "colab": {
      "collapsed_sections": [],
      "include_colab_link": true,
      "provenance": []
    },
    "kernelspec": {
      "display_name": "Python 3.10.6 ('darn')",
      "language": "python",
      "name": "python3"
    },
    "language_info": {
      "codemirror_mode": {
        "name": "ipython",
        "version": 3
      },
      "file_extension": ".py",
      "mimetype": "text/x-python",
      "name": "python",
      "nbconvert_exporter": "python",
      "pygments_lexer": "ipython3",
      "version": "3.10.6"
    },
    "vscode": {
      "interpreter": {
        "hash": "32e2dbf1803d73024220d8ce952a4cd5841546f66dea498d70dda7d4472a2932"
      }
    }
  },
  "nbformat": 4,
  "nbformat_minor": 0
}
